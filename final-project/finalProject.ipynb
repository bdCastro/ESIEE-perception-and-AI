{
 "cells": [
  {
   "cell_type": "markdown",
   "metadata": {},
   "source": []
  },
  {
   "cell_type": "code",
   "execution_count": null,
   "metadata": {},
   "outputs": [],
   "source": [
    "import cv2\n",
    "import numpy as np\n",
    "import cv2 as cv\n",
    "import matplotlib.pyplot as plt\n",
    "\n",
    "from scipy import ndimage\n",
    "from PIL import Image\n",
    "import glob\n",
    "import imutils\n",
    "\n",
    "for filename in glob.glob('/media/*.png'):\n",
    "  frame=cv2.imread(filename)\n",
    "  # Normalize the image\n",
    "  img_normalized = cv2.normalize( frame, None, 0, 1.0, cv2.NORM_MINMAX, dtype=cv2.CV_32F )\n",
    "  cv2.imshow(\"orig\",frame)\n",
    "  cv2.imshow( \"norm\", img_normalized)\n",
    "  cv2.waitKey(0\n",
    "            )\n",
    "# close all windows\n",
    "cv2.destroyAllWindows()"
   ]
  },
  {
   "cell_type": "code",
   "execution_count": null,
   "metadata": {},
   "outputs": [],
   "source": [
    "from Ultralytics import YOLO\n",
    "\n",
    "model = YOLO('yolo8.pt')\n",
    "results = model.train(data=\"/content/personDetection-1/data.yaml\", epochs = 25,imgsz=224)"
   ]
  },
  {
   "cell_type": "code",
   "execution_count": null,
   "metadata": {},
   "outputs": [],
   "source": [
    "\n",
    "cap = cv2.VideoCapture('/content/drive/MyDrive/KITTI-16-raw.mp4') #à modifier selon vos conditions\n",
    "\n",
    "#read the video file until \"q\" is pressed\n",
    "while( cap.isOpened() ):\n",
    "    ret, frame = cap.read()\n",
    "    #frame = cv2.resize(frame, (smt, smt), interpolation=cv.INTER_LINEAR) # add resize command to fit model size\n",
    "    \n",
    "    #Applying OpenCv thresholding https://docs.opencv.org/3.4/d7/d4d/tutorial_py_thresholding.html\n",
    "    ret, thresh = cv2.threshold(frame, 0, 255, cv2.THRESH_BINARY_INV+cv2.THRESH_OTSU)\n",
    "    th2 = cv.adaptiveThreshold(frame,255,cv.ADAPTIVE_THRESH_MEAN_C,cv.THRESH_BINARY,11,2)\n",
    "    th3 = cv.adaptiveThreshold(frame,255,cv.ADAPTIVE_THRESH_GAUSSIAN_C,cv.THRESH_BINARY,11,2)\n",
    "\n",
    "    c = cv2.waitKey(1)\n",
    "    if c == 27:\n",
    "        break\n",
    "\n",
    "cap.release()\n",
    "cv2.destroyAllWindows()"
   ]
  },
  {
   "cell_type": "code",
   "execution_count": null,
   "metadata": {},
   "outputs": [],
   "source": [
    "cap = cv2.VideoCapture('/content/drive/MyDrive/KITTI-16-raw.mp4') #à modifier selon vos conditions\n",
    "\n",
    "#read the video file until \"q\" is pressed\n",
    "while( cap.isOpened() ):\n",
    "    ret, frame = cap.read()\n",
    "    #frame = cv2.resize(frame, (smt, smt), interpolation=cv.INTER_LINEAR) # add resize command to fit model size\n",
    "    results = model.predict(frame,conf=0.1)  # predict on an image\n",
    "\n",
    "    if len(results) > 0:\n",
    "        for r in results:\n",
    "            res_plotted = results[ 0 ].plot() # get results\n",
    "            box = r.boxes.cpu() #get bounding boxes\n",
    "            box_sz = box.xyxy.numpy() # coordinates\n",
    "\n",
    "            cv2.imshow(res_plotted)\n",
    "            break\n",
    "\n",
    "\n",
    "    c = cv2.waitKey(1)\n",
    "    if c == 27:\n",
    "        break\n",
    "\n",
    "cap.release()\n",
    "cv2.destroyAllWindows()\n",
    "     "
   ]
  }
 ],
 "metadata": {
  "language_info": {
   "name": "python"
  }
 },
 "nbformat": 4,
 "nbformat_minor": 2
}
